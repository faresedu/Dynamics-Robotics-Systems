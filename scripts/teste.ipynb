{
 "cells": [
  {
   "cell_type": "code",
   "execution_count": 6,
   "metadata": {},
   "outputs": [
    {
     "name": "stdout",
     "output_type": "stream",
     "text": [
      "fkine T_01:\n",
      "  \u001b[38;5;1m 0.866   \u001b[0m \u001b[38;5;1m 0       \u001b[0m \u001b[38;5;1m-0.5     \u001b[0m \u001b[38;5;4m 0       \u001b[0m  \u001b[0m\n",
      "  \u001b[38;5;1m 0.5     \u001b[0m \u001b[38;5;1m 0       \u001b[0m \u001b[38;5;1m 0.866   \u001b[0m \u001b[38;5;4m 0       \u001b[0m  \u001b[0m\n",
      "  \u001b[38;5;1m 0       \u001b[0m \u001b[38;5;1m-1       \u001b[0m \u001b[38;5;1m 0       \u001b[0m \u001b[38;5;4ml1          \u001b[0m  \u001b[0m\n",
      "  \u001b[38;5;244m 0       \u001b[0m \u001b[38;5;244m 0       \u001b[0m \u001b[38;5;244m 0       \u001b[0m \u001b[38;5;244m 1       \u001b[0m  \u001b[0m\n",
      "\n",
      "fkine T_12:\n",
      "  \u001b[38;5;1m 0.5     \u001b[0m \u001b[38;5;1m 0       \u001b[0m \u001b[38;5;1m-0.866   \u001b[0m \u001b[38;5;4m 0       \u001b[0m  \u001b[0m\n",
      "  \u001b[38;5;1m 0.866   \u001b[0m \u001b[38;5;1m 0       \u001b[0m \u001b[38;5;1m 0.5     \u001b[0m \u001b[38;5;4m 0       \u001b[0m  \u001b[0m\n",
      "  \u001b[38;5;1m 0       \u001b[0m \u001b[38;5;1m-1       \u001b[0m \u001b[38;5;1m 0       \u001b[0m \u001b[38;5;4m 0       \u001b[0m  \u001b[0m\n",
      "  \u001b[38;5;244m 0       \u001b[0m \u001b[38;5;244m 0       \u001b[0m \u001b[38;5;244m 0       \u001b[0m \u001b[38;5;244m 1       \u001b[0m  \u001b[0m\n",
      "\n",
      "fkine T_23:\n",
      "  \u001b[38;5;1m 1       \u001b[0m \u001b[38;5;1m 0       \u001b[0m \u001b[38;5;1m 0       \u001b[0m \u001b[38;5;4m 0       \u001b[0m  \u001b[0m\n",
      "  \u001b[38;5;1m 0       \u001b[0m \u001b[38;5;1m 1       \u001b[0m \u001b[38;5;1m 0       \u001b[0m \u001b[38;5;4m 0       \u001b[0m  \u001b[0m\n",
      "  \u001b[38;5;1m 0       \u001b[0m \u001b[38;5;1m 0       \u001b[0m \u001b[38;5;1m 1       \u001b[0m \u001b[38;5;4ml3          \u001b[0m  \u001b[0m\n",
      "  \u001b[38;5;244m 0       \u001b[0m \u001b[38;5;244m 0       \u001b[0m \u001b[38;5;244m 0       \u001b[0m \u001b[38;5;244m 1       \u001b[0m  \u001b[0m\n",
      "\n",
      "fkine DH:\n",
      "  \u001b[38;5;1m 0.433   \u001b[0m \u001b[38;5;1m 0.5     \u001b[0m \u001b[38;5;1m-0.75    \u001b[0m \u001b[38;5;4m-0.75*l3    \u001b[0m  \u001b[0m\n",
      "  \u001b[38;5;1m 0.25    \u001b[0m \u001b[38;5;1m-0.866   \u001b[0m \u001b[38;5;1m-0.433   \u001b[0m \u001b[38;5;4m-0.433012701892219*l3\u001b[0m  \u001b[0m\n",
      "  \u001b[38;5;1m-0.866025403784439\u001b[0m \u001b[38;5;1m-9.18485099360515e-17\u001b[0m \u001b[38;5;1m-0.500000000000000\u001b[0m \u001b[38;5;4m1.0*l1 - 0.5*l3\u001b[0m  \u001b[0m\n",
      "  \u001b[38;5;244m 0       \u001b[0m \u001b[38;5;244m 0       \u001b[0m \u001b[38;5;244m 0       \u001b[0m \u001b[38;5;244m1.00000000000000\u001b[0m  \u001b[0m\n",
      "\n"
     ]
    },
    {
     "data": {
      "text/plain": [
       "array([[0.433012701892219*l3, 0.5*l1 - 0.25*l3, -0.8660254037844386],\n",
       "       [-0.75*l3, 0.866025403784439*l1 - 0.433012701892219*l3,\n",
       "        0.5000000000000001],\n",
       "       [0, 0.75*l3, 6.123233995736766e-17]], dtype=object)"
      ]
     },
     "execution_count": 6,
     "metadata": {},
     "output_type": "execute_result"
    }
   ],
   "source": [
    "import numpy as np\n",
    "from robotClass import myRobot\n",
    "import sympy as sym\n",
    "\n",
    "l1, l3 = sym.symbols('l1 l3')\n",
    "d = [l1, 0, l3]\n",
    "a = [0, 0, 0]\n",
    "alpha = [-np.pi/2, -np.pi/2, 0]\n",
    "robot = myRobot(name='Manipulator RRP', joints=3, typeJoints='RRP', d = d, a=a, alpha=alpha)\n",
    "\n",
    "robot.matrixDH()\n",
    "robot.fkine(np.deg2rad([30, 60, 0]))\n",
    "jL = []; jA = []; lastRotation = np.eye(3)\n",
    "b0 = np.array([0, 0, 1])\n",
    "\n",
    "t = robot.fkineD['DH'].t\n",
    "a, b = robot.jacobian(np.array([0, 0, 1]))\n",
    "a.T\n",
    "\n"
   ]
  }
 ],
 "metadata": {
  "kernelspec": {
   "display_name": "Python 3",
   "language": "python",
   "name": "python3"
  },
  "language_info": {
   "codemirror_mode": {
    "name": "ipython",
    "version": 3
   },
   "file_extension": ".py",
   "mimetype": "text/x-python",
   "name": "python",
   "nbconvert_exporter": "python",
   "pygments_lexer": "ipython3",
   "version": "3.8.10"
  }
 },
 "nbformat": 4,
 "nbformat_minor": 2
}
