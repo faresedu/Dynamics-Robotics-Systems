{
 "cells": [
  {
   "cell_type": "code",
   "execution_count": 1,
   "metadata": {},
   "outputs": [
    {
     "name": "stdout",
     "output_type": "stream",
     "text": [
      "[array([ 12.99038106, -22.5       ,   0.        ]), array([-2.5       , -4.33012702, 22.5       ]), array([-8.66025404e-01,  5.00000000e-01,  6.12323400e-17])]\n",
      "[array([0, 0, 1]), array([-8.66025404e-01,  5.00000000e-01,  6.12323400e-17]), array([0., 0., 0.])]\n"
     ]
    },
    {
     "data": {
      "text/plain": [
       "array([[ 1.29903811e+01, -2.50000000e+00, -8.66025404e-01],\n",
       "       [-2.25000000e+01, -4.33012702e+00,  5.00000000e-01],\n",
       "       [ 0.00000000e+00,  2.25000000e+01,  6.12323400e-17],\n",
       "       [ 0.00000000e+00, -8.66025404e-01,  0.00000000e+00],\n",
       "       [ 0.00000000e+00,  5.00000000e-01,  0.00000000e+00],\n",
       "       [ 1.00000000e+00,  6.12323400e-17,  0.00000000e+00]])"
      ]
     },
     "execution_count": 1,
     "metadata": {},
     "output_type": "execute_result"
    }
   ],
   "source": [
    "import numpy as np\n",
    "from robotClass import myRobot\n",
    "import sympy as sym\n",
    "\n",
    "# l1, l3 = sym.symbols('l1 l3')\n",
    "l1, l3 = 10, 30\n",
    "d = [l1, 0, l3]\n",
    "a = [0, 0, 0]\n",
    "alpha = [-np.pi/2, -np.pi/2, 0]\n",
    "robot = myRobot(name='Manipulator RRP', joints=3, typeJoints='RRP', d = d, a=a, alpha=alpha)\n",
    "\n",
    "robot.matrixDH()\n",
    "robot.fkine(np.deg2rad([30, 60, 0]))\n",
    "robot.jacobian(np.array([0, 0, 1]))\n",
    "\n"
   ]
  }
 ],
 "metadata": {
  "kernelspec": {
   "display_name": "Python 3",
   "language": "python",
   "name": "python3"
  },
  "language_info": {
   "codemirror_mode": {
    "name": "ipython",
    "version": 3
   },
   "file_extension": ".py",
   "mimetype": "text/x-python",
   "name": "python",
   "nbconvert_exporter": "python",
   "pygments_lexer": "ipython3",
   "version": "3.8.10"
  }
 },
 "nbformat": 4,
 "nbformat_minor": 2
}
