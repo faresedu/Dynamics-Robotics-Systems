{
 "cells": [
  {
   "cell_type": "code",
   "execution_count": 1,
   "metadata": {},
   "outputs": [
    {
     "name": "stdout",
     "output_type": "stream",
     "text": [
      "DHRobot: end effector, 3 joints (RRR), dynamics, standard DH parameters\n",
      "┌────┬────┬────┬────────┐\n",
      "│θⱼ  │ dⱼ │ aⱼ │   ⍺ⱼ   │\n",
      "├────┼────┼────┼────────┤\n",
      "│ q1\u001b[0m │ 10\u001b[0m │  0\u001b[0m │ -90.0°\u001b[0m │\n",
      "│ q2\u001b[0m │  0\u001b[0m │  0\u001b[0m │ -90.0°\u001b[0m │\n",
      "│ q3\u001b[0m │ 30\u001b[0m │  0\u001b[0m │   0.0°\u001b[0m │\n",
      "└────┴────┴────┴────────┘\n",
      "\n",
      "┌─┬──┐\n",
      "└─┴──┘\n",
      "\n",
      "  \u001b[38;5;1m 0.433   \u001b[0m \u001b[38;5;1m 0.5     \u001b[0m \u001b[38;5;1m-0.75    \u001b[0m \u001b[38;5;4m-22.5    \u001b[0m  \u001b[0m\n",
      "  \u001b[38;5;1m 0.25    \u001b[0m \u001b[38;5;1m-0.866   \u001b[0m \u001b[38;5;1m-0.433   \u001b[0m \u001b[38;5;4m-12.99   \u001b[0m  \u001b[0m\n",
      "  \u001b[38;5;1m-0.866   \u001b[0m \u001b[38;5;1m 0       \u001b[0m \u001b[38;5;1m-0.5     \u001b[0m \u001b[38;5;4m-5       \u001b[0m  \u001b[0m\n",
      "  \u001b[38;5;244m 0       \u001b[0m \u001b[38;5;244m 0       \u001b[0m \u001b[38;5;244m 0       \u001b[0m \u001b[38;5;244m 1       \u001b[0m  \u001b[0m\n",
      "\n"
     ]
    },
    {
     "data": {
      "text/plain": [
       "array([[ 12.99038,  -2.5    ,  -0.86603],\n",
       "       [-22.5    ,  -4.33015,   0.5    ],\n",
       "       [  0.     ,  22.50006,   0.     ],\n",
       "       [  0.     ,  -0.86603,   0.     ],\n",
       "       [  0.     ,   0.5    ,   0.     ],\n",
       "       [  1.     ,   0.     ,   0.     ]])"
      ]
     },
     "execution_count": 1,
     "metadata": {},
     "output_type": "execute_result"
    }
   ],
   "source": [
    "import numpy as np\n",
    "from robotClass import myRobot\n",
    "import sympy as sym\n",
    "\n",
    "# l1, l3 = sym.symbols('l1 l3')\n",
    "\n",
    "# theta1, theta2, theta3 = sym.symbols('θ1 θ2 θ3')\n",
    "\n",
    "l1, l3 = 10, 30\n",
    "d = [l1, 0, l3]\n",
    "a = [0, 0, 0]\n",
    "alpha = [-np.pi/2, -np.pi/2, 0]\n",
    "robot = myRobot(name='Manipulator RRP', joints=3, typeJoints='RRP', d = d, a=a, alpha=alpha)\n",
    "\n",
    "robot.matrixDH()\n",
    "print(robot.transforms['DH'])\n",
    "# print(robot.transforms)\n",
    "robot.fkine(np.deg2rad([30, 60, 0]), False)\n",
    "print(robot.fkineD['DH'])\n",
    "\n",
    "# robot.fkine([theta1, theta2, theta3])\n",
    "a = robot.fkineD['DH']\n",
    "\n",
    "robot.jacobian(np.array([0, 0, 1]), np.deg2rad([30, 60, 0]))\n",
    "\n"
   ]
  }
 ],
 "metadata": {
  "kernelspec": {
   "display_name": "Python 3",
   "language": "python",
   "name": "python3"
  },
  "language_info": {
   "codemirror_mode": {
    "name": "ipython",
    "version": 3
   },
   "file_extension": ".py",
   "mimetype": "text/x-python",
   "name": "python",
   "nbconvert_exporter": "python",
   "pygments_lexer": "ipython3",
   "version": "3.8.10"
  }
 },
 "nbformat": 4,
 "nbformat_minor": 2
}
